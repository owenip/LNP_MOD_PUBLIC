{
 "cells": [
  {
   "cell_type": "markdown",
   "metadata": {},
   "source": [
    "[![Open In Colab](https://colab.research.google.com/assets/colab-badge.svg)](https://colab.research.google.com/github/owenip/LNP-MOD/blob/cli/colab_notebooks/LNP-MOD.ipynb)\n"
   ]
  },
  {
   "cell_type": "markdown",
   "metadata": {},
   "source": [
    "## Setup environment"
   ]
  },
  {
   "cell_type": "markdown",
   "metadata": {},
   "source": [
    "### Make sure the notebook is using GPU via `nvidia-smi` command.\n",
    "In case of any problems navigate to `Edit` -> `Notebook settings` -> `Hardware accelerator`, set it to `GPU`, and then click `Save`.\n",
    "\n",
    "*This tool can also work without GPU but the processing time will be significantly longer.*"
   ]
  },
  {
   "cell_type": "code",
   "execution_count": null,
   "metadata": {},
   "outputs": [],
   "source": [
    "#@title ##Run this cell to check if you have GPU access { display-mode: \"form\" }\n",
    "from IPython import display\n",
    "%pip install tensorflow\n",
    "\n",
    "display.clear_output()\n",
    "\n",
    "import tensorflow as tf\n",
    "\n",
    "if tf.test.gpu_device_name() != '/device:GPU:0':\n",
    "    print('\\nYou do not have GPU access.')\n",
    "    print('\\nDid you change your runtime ?')\n",
    "    print('\\nIf the runtime setting is correct then Google did not allocate a GPU for your session')\n",
    "    print('\\nExpect slow performance. To access GPU try reconnecting later')\n",
    "\n",
    "else:\n",
    "    print('You have GPU access')\n",
    "    !nvidia-smi"
   ]
  },
  {
   "cell_type": "markdown",
   "metadata": {},
   "source": [
    "# Install SAM Framework"
   ]
  },
  {
   "cell_type": "code",
   "execution_count": null,
   "metadata": {},
   "outputs": [],
   "source": [
    "from google.colab import userdata\n",
    "\n",
    "!pip install -q git+https://github.com/facebookresearch/segment-anything.git\n",
    "\n",
    "github_token = userdata.get('github_token')\n",
    "!git clone https://{github_token}@github.com/owenip/LNP-MOD.git\n",
    "!cd /content/LNP-MOD && git checkout cli && git pull\n",
    "!pip install -e /content/LNP-MOD/"
   ]
  },
  {
   "cell_type": "markdown",
   "metadata": {},
   "source": [
    "### Install required library"
   ]
  },
  {
   "cell_type": "code",
   "execution_count": null,
   "metadata": {},
   "outputs": [],
   "source": [
    "# Install ultralytics library\n",
    "from IPython import display\n",
    "%pip install -U ultralytics shapely \n",
    "\n",
    "display.clear_output()\n",
    "import ultralytics\n",
    "ultralytics.checks()"
   ]
  },
  {
   "cell_type": "markdown",
   "metadata": {},
   "source": [
    "### **Mount your Google Drive**"
   ]
  },
  {
   "cell_type": "code",
   "execution_count": null,
   "metadata": {},
   "outputs": [],
   "source": [
    "#@title ##Play the cell to connect your Google Drive to Colab { display-mode: \"form\" }\n",
    "\n",
    "#@markdown 1. Click 'Connect to Google Drive' at the pop up window\n",
    "\n",
    "#@markdown 2. Sign in your Google Account.\n",
    "\n",
    "#@markdown 3. Click 'Allow' to give this notebook access to the data on the drive\n",
    "\n",
    "#@markdown * Once this is done, your data are available in the Files tab on the top left of notebook.\n",
    "\n",
    "# Mount user's Google Drive to Google Colab.\n",
    "from google.colab import drive\n",
    "drive.mount('/content/drive')\n",
    "\n",
    "# Force session restart\n",
    "exit(0)"
   ]
  },
  {
   "cell_type": "markdown",
   "metadata": {},
   "source": [
    "### Setup Dataset and Model"
   ]
  },
  {
   "cell_type": "code",
   "execution_count": null,
   "metadata": {},
   "outputs": [],
   "source": [
    "# @title ### Setup Dataset and Model { display-mode: \"form\" }\n",
    "# @markdown ### Provide the path to the dataset folder\n",
    "\n",
    "import os\n",
    "import glob\n",
    "\n",
    "input_images_folder = \"/content/drive/Shareddrives/Bleb_Counting/raw_data/\" # @param {type:\"string\"}\n",
    "path_to_od_model = \"/content/objection_detection.pt\"\n",
    "path_to_seg_model = \"/content/segmentation_model.pt\"\n",
    "\n",
    "def check_file_exist(file_path):\n",
    "    if os.path.exists(file_path) == False:\n",
    "        raise Exception('File does not exist: ' + file_path)\n",
    "\n",
    "def get_supported_images_path_list(images_folder):\n",
    "    images = []\n",
    "    # Exclude '*.jpg', '*.jpeg' as this format are always used for the overview image\n",
    "    supported_images = ('*.tif', '*.tiff', '*.png', '*.bmp',\n",
    "                        '*.dng', '*.webp', '*.pfm', '*.mpo')\n",
    "    for image_type in supported_images:\n",
    "        images.extend(glob.glob(images_folder + image_type))\n",
    "\n",
    "    return sorted(images)\n",
    "\n",
    "input_images_folder = os.path.join(input_images_folder, '')\n",
    "check_file_exist(input_images_folder)\n",
    "check_file_exist(path_to_od_model)\n",
    "check_file_exist(path_to_seg_model)\n",
    "\n",
    "num_of_supported_images = len(get_supported_images_path_list(input_images_folder))\n",
    "if num_of_supported_images == 0:\n",
    "    raise Exception('No supported images found in the dataset folder')\n",
    "else:\n",
    "    print('Number of supported images found in the dataset folder: ' + str(num_of_supported_images))\n",
    "\n",
    "# @markdown #*Play the cell to ensure the dataset folder contains supported images*"
   ]
  },
  {
   "cell_type": "code",
   "execution_count": null,
   "metadata": {},
   "outputs": [],
   "source": [
    "# @title ### Setup Dataset and Model { display-mode: \"form\" }\n",
    "# @markdown ### Provide the path to the dataset folder\n",
    "\n",
    "import os\n",
    "import glob\n",
    "\n",
    "input_images_folder = \"/content/imgs_dir\" # @param {type:\"string\"}\n",
    "input_images_folder = os.path.join(input_images_folder, '')\n",
    "\n",
    "# @markdown ### Provide the path to the objection detection model\n",
    "# path_to_od_model = \"/content/objection_detection.pt\"\n",
    "# path_to_seg_model = \"/content/segmentation_model.pt\"\n",
    "\n",
    "!python /content/LNP-MOD/lnp_mod/inference.py --input_dir \"{input_images_folder}\"\n",
    "\n",
    "# @markdown #*Play the cell to run LNP-MOD*"
   ]
  }
 ],
 "metadata": {
  "language_info": {
   "name": "python"
  }
 },
 "nbformat": 4,
 "nbformat_minor": 2
}
